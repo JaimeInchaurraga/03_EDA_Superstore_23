{
 "cells": [
  {
   "cell_type": "code",
   "execution_count": null,
   "metadata": {},
   "outputs": [],
   "source": [
    "import pandas as pd\n",
    "import numpy as np\n"
   ]
  },
  {
   "cell_type": "code",
   "execution_count": null,
   "metadata": {},
   "outputs": [],
   "source": []
  },
  {
   "cell_type": "code",
   "execution_count": null,
   "metadata": {},
   "outputs": [],
   "source": [
    "# para filtrar por el minimo y el maximo de una columna:\n",
    "min_date = df['Order Date'].min()\n",
    "max_date = df['Order Date'].max()\n",
    "row_min_date = df[df['Order Date'] == min_date]\n",
    "row_max_date = df[df['Order Date'] == max_date]"
   ]
  },
  {
   "cell_type": "code",
   "execution_count": null,
   "metadata": {},
   "outputs": [],
   "source": [
    "# filtrar entre un rango de valores:\n",
    "\n",
    "min_value = 0\n",
    "max_value = 20\n",
    "\n",
    "# Filtrar las filas donde \"Sales\" está dentro del rango\n",
    "filtered_df = df[(df[\"Sales\"] >= min_value) & (df[\"Sales\"] <= max_value)]\n",
    "filtered_df"
   ]
  },
  {
   "cell_type": "code",
   "execution_count": null,
   "metadata": {},
   "outputs": [],
   "source": []
  },
  {
   "cell_type": "code",
   "execution_count": null,
   "metadata": {},
   "outputs": [],
   "source": []
  }
 ],
 "metadata": {
  "kernelspec": {
   "display_name": "Python 3",
   "language": "python",
   "name": "python3"
  },
  "language_info": {
   "name": "python",
   "version": "3.11.5"
  }
 },
 "nbformat": 4,
 "nbformat_minor": 2
}
